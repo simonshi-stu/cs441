{
  "cells": [
    {
      "cell_type": "markdown",
      "metadata": {
        "id": "Gd7scc-8QJvE"
      },
      "source": [
        "## CS441: Applied ML - HW 1"
      ]
    },
    {
      "cell_type": "markdown",
      "metadata": {
        "id": "QagOldZDQJvG"
      },
      "source": [
        "### Part I: MNIST Classification\n",
        "\n",
        "Include all the code for Part 1 in this section"
      ]
    },
    {
      "cell_type": "code",
      "execution_count": 100,
      "metadata": {
        "id": "vO_W4UH7NNBo"
      },
      "outputs": [],
      "source": [
        "# initialization code\n",
        "import numpy as np\n",
        "from keras.datasets import mnist\n",
        "%matplotlib inline\n",
        "from matplotlib import pyplot as plt\n",
        "from scipy import stats\n",
        "from sklearn.linear_model import LogisticRegression\n",
        "from numpy import linalg as la\n",
        "\n",
        "# loads MNIST data and reformat to 768-d vectors with values in range 0 to 1\n",
        "# splits into train/val/test sets and provides indices for subsets of train\n",
        "def load_mnist():\n",
        "  (x_train, y_train), (x_test, y_test) = mnist.load_data()\n",
        "  x_train = np.reshape(x_train, (len(x_train), 28*28))\n",
        "  x_test = np.reshape(x_test, (len(x_test), 28*28))\n",
        "  maxval = x_train.max()\n",
        "  x_train = x_train/maxval\n",
        "  x_test = x_test/maxval\n",
        "  x_val = x_train[:10000]\n",
        "  y_val = y_train[:10000]\n",
        "  x_train = x_train[10000:]\n",
        "  y_train = y_train[10000:]\n",
        "  train_indices = dict()\n",
        "  train_indices['xs'] = np.arange(50)\n",
        "  train_indices['s'] = np.arange(500)\n",
        "  train_indices['m'] = np.arange(5000)\n",
        "  train_indices['all'] = np.arange(50000)\n",
        "  return (x_train, y_train), (x_val, y_val), (x_test, y_test), train_indices\n",
        "\n",
        "# displays a set of mnist images\n",
        "def display_mnist(x, subplot_rows=1, subplot_cols=1):\n",
        "  if subplot_rows>1 or subplot_cols>1:\n",
        "    fig, ax = plt.subplots(subplot_rows, subplot_cols, figsize=(15,15))\n",
        "    for i in np.arange(len(x)):\n",
        "      ax[i].imshow(np.reshape(x[i], (28,28)), cmap='gray')\n",
        "      ax[i].axis('off')\n",
        "  else:\n",
        "      plt.imshow(np.reshape(x, (28,28)), cmap='gray')\n",
        "      plt.axis('off')\n",
        "  plt.show()\n",
        "\n",
        "# counts the number of examples per class\n",
        "def class_count_mnist(y):\n",
        "  count = np.zeros((10,),dtype='uint32')\n",
        "  for i in np.arange(10):\n",
        "    count[i] = sum(y==i)\n",
        "  return count"
      ]
    },
    {
      "cell_type": "code",
      "source": [
        "# example of using MNIST load, display, indices, and count functions\n",
        "(x_train, y_train), (x_val, y_val), (x_test, y_test), train_indices = load_mnist()\n",
        "display_mnist(x_train[:10],1,10)\n",
        "print(x_test.shape)\n",
        "print('Total size: train={}, val={}, test ={}'.format(len(x_train), len(x_val), len(x_test)))\n",
        "print('Train subset size: xs={}, s={}, m={}, all={}'.format(len(train_indices['xs']),len(train_indices['s']),len(train_indices['m']),len(train_indices['all'])))\n",
        "print('Class count for s: {}'.format(class_count_mnist(y_train[train_indices['s']])))"
      ],
      "metadata": {
        "id": "-PwqmwHdhpox",
        "colab": {
          "base_uri": "https://localhost:8080/",
          "height": 171
        },
        "outputId": "5b56b9ee-1f86-4615-ce32-5b5353c2166d"
      },
      "execution_count": 97,
      "outputs": [
        {
          "output_type": "display_data",
          "data": {
            "text/plain": [
              "<Figure size 1080x1080 with 10 Axes>"
            ],
            "image/png": "[encoded data removed]"
          },
          "metadata": {
            "needs_background": "light"
          }
        },
        {
          "output_type": "stream",
          "name": "stdout",
          "text": [
            "(10000, 784)\n",
            "Total size: train=50000, val=10000, test =10000\n",
            "Train subset size: xs=50, s=500, m=5000, all=50000\n",
            "Class count for s: [56 57 51 49 46 46 50 51 40 54]\n"
          ]
        }
      ]
    },
    {
      "cell_type": "code",
      "execution_count": 98,
      "metadata": {
        "id": "szEj_VKfORbU"
      },
      "outputs": [],
      "source": [
        "# This is a suggested function definition for KNN, but feel free to change it\n",
        "def classify_KNN(X_trn, y_trn, X_tst, K=1):\n",
        "  '''\n",
        "  Classify each data point in X_tst using a K-nearest neighbor classifier based on (X_trn, y_trn), with L2 distance.   \n",
        "  Input: X_trn[i] is the ith training data. y_trn[i] is the ith training label. \n",
        "         X_tst[i] is the ith example to classify.  K is the number of closest neighbors to use.\n",
        "  Output: return y_pred, where y_pred[i] is the predicted ith test label \n",
        "  '''\n",
        "  # needs code here\n",
        "  y_pred = []\n",
        "  for elem in X_tst:\n",
        "    smallest = float('inf')\n",
        "    index = -1\n",
        "    for i in range(len(X_trn)):\n",
        "      value = la.norm(np.abs(elem - x_train[i]), 2)\n",
        "      if value < smallest:\n",
        "        smallest = value\n",
        "        index = y_trn[i]\n",
        "    y_pred.append(index)\n",
        "  \n",
        "  y_pred = np.array(y_pred)\n",
        "  return y_pred\n",
        "\n"
      ]
    },
    {
      "cell_type": "code",
      "execution_count": 96,
      "metadata": {
        "id": "lZCd60v4UXE5"
      },
      "outputs": [],
      "source": [
        "# This is a suggested function definition for training Naive Bayes, but feel free to change it\n",
        "def train_NB_mnist(X, y, alpha=1):\n",
        "  '''\n",
        "  Train P(x_f=v|y=c) for each feature f, value v, and class c.  Can assume 10 classes and that the features are binary variables \n",
        "  Input: X[i] is the ith training data. y[i] is the ith training label. alpha is the count prior\n",
        "  Output: return pxy of shape (Nf, 10, 2), where Nf is the number of features; pxy[f,c,v] is P(x_f=v|y=c) \n",
        "  '''\n",
        "  # needs code here\n",
        "  n_data = len(X)\n",
        "  n_feature = len(X[0])\n",
        "  labels = list(set(y))\n",
        "  n_labels = len(set(y))\n",
        "  for i in range(n_data):\n",
        "    for j in range(n_feature):\n",
        "      if X[i,j] > 0.5:\n",
        "        X[i,j] = 1.00000\n",
        "      else:\n",
        "        X[i,j] = 0.000000\n",
        "  pxy1 = []\n",
        "  for i in range(n_labels):\n",
        "    label = labels[i]\n",
        "    fit_data = []\n",
        "    for j in range(n_data):\n",
        "      if y[j] == label:\n",
        "        fit_data.append(X[j])\n",
        "    number_fits = len(fit_data)\n",
        "    fit_data = np.array(fit_data)\n",
        "    total = np.sum(fit_data, axis = 0)\n",
        "    for k in range(len(total)):\n",
        "      total[k] = (total[k] + alpha) / (number_fits \n",
        "      + n_feature * alpha)\n",
        "    pxy1.append(total)\n",
        "  pxy1 = np.array(pxy1)\n",
        "  pxy = pxy1\n",
        "  return pxy\n",
        "\n",
        "# This is a suggested function definition for evauating Naive Bayes, but feel free to change it\n",
        "def eval_NB_mnist(pxy, X):\n",
        "  y_pred = []\n",
        "  for i in range(len(X)):\n",
        "    data = X[i]\n",
        "    probs = []\n",
        "    for j in range(len(pxy)):\n",
        "      prob = pxy[j] @ data\n",
        "      probs.append(prob)\n",
        "    probs = np.array(probs)\n",
        "    label = np.argmax(probs)\n",
        "    y_pred.append(label)\n",
        "  return y_pred\n",
        "\n",
        "  '''\n",
        "  Evaluate naive bayes for mnist\n",
        "  Input: pxy is the trained model; X is the test data\n",
        "  Output: return y_pred, where y_pred[i] is the predicted ith test label  \n",
        "  '''\n",
        "\n"
      ]
    },
    {
      "cell_type": "code",
      "source": [
        "# don't forget logistic regression!\n",
        "from sklearn.linear_model import LogisticRegression\n",
        "\n",
        "def log_reg(x_train, y_train, x_test):\n",
        "  logR = LogisticRegression(max_iter=100000)\n",
        "  logR.fit(x_train, y_train)\n",
        "  y_pred = logR.predict(x_test)\n",
        "  return y_pred\n"
      ],
      "metadata": {
        "id": "tbzXogNvhAx6"
      },
      "execution_count": 95,
      "outputs": []
    },
    {
      "cell_type": "code",
      "source": [
        "# experiments code\n",
        "# display_mnist(x_test,1,10000)\n",
        "# X_trn = x_train[0:5]\n",
        "# Y_trn = y_train[0:5]\n",
        "# X_tst = x_test\n",
        "\n",
        "# def func(matrix, value, y_pred, y_val):\n",
        "#   for i in range(10000):\n",
        "#     row = y_val[i] ## should be i\n",
        "#     col = y_pred[i] ## the label we get is matched or not\n",
        "#     confusion[row][col] += 1  ## the diagonal will be the correctness\n",
        "#     if y_pred[i] != y_val[i]:\n",
        "#       value += 1\n",
        "#   return value, confusion\n",
        "\n",
        "# knn\n",
        "# y_pred = classify_KNN(X_trn, Y_trn, x_val, K=1)\n",
        "# confusion = np.zeros((10,10))\n",
        "# count = 0\n",
        "# count, confusion = func(confusion, count, y_pred, y_val)\n",
        "# print(confusion)\n",
        "# naive bayes\n",
        "\n",
        "# pxy = train_NB_mnist(X_trn, Y_trn, 1)\n",
        "# y_pred = eval_NB_mnist(pxy, X_tst)\n",
        "# count = 0\n",
        "# for i in range(10000):\n",
        "#   if y_pred[i] != y_test[i]:\n",
        "#     count = count + 1\n",
        "# print(count / 10000)\n",
        "\n",
        "\n",
        "\n",
        "# logistic\n",
        "\n",
        "# y_pred = log_reg(x_train, y_train, X_tst)\n",
        "# count = 0\n",
        "# for i in range(10000):\n",
        "#   if y_pred[i] != y_test[i]:\n",
        "#     count = count + 1\n",
        "# print(count / 10000)\n",
        "# print(y_pred)\n"
      ],
      "metadata": {
        "id": "uLvi7Yj-ebAa"
      },
      "execution_count": 108,
      "outputs": []
    },
    {
      "cell_type": "code",
      "source": [],
      "metadata": {
        "id": "T_jII9-ijvF9"
      },
      "execution_count": null,
      "outputs": []
    },
    {
      "cell_type": "markdown",
      "source": [
        "## Part 2: Temperature Regression\n",
        "\n",
        "Include all your code for part 2 in this section.  You can copy-paste code from part 1 if it is re-usable."
      ],
      "metadata": {
        "id": "F49MYTryhPJB"
      }
    },
    {
      "cell_type": "code",
      "source": [
        "import numpy as np\n",
        "from google.colab import drive\n",
        "%matplotlib inline\n",
        "from matplotlib import pyplot as plt\n",
        "from sklearn.linear_model import Ridge\n",
        "from sklearn.linear_model import Lasso\n",
        "\n",
        "# load data (modify to match your data directory or comment)\n",
        "def load_temp_data():\n",
        "  drive.mount('/content/drive/')\n",
        "  datadir = \"/content/drive/MyDrive/cs441/hw1/\" \n",
        "  T = np.load(datadir + \"temperature_data.npz\")\n",
        "  x_train, y_train, x_val, y_val, x_test, y_test, dates_train, dates_val, dates_test, feature_to_city, feature_to_day = \\\n",
        "  T['x_train'], T['y_train'], T['x_val'], T['y_val'], T['x_test'], T['y_test'], T['dates_train'], T['dates_val'], T['dates_test'], T['feature_to_city'], T['feature_to_day']\n",
        "  return (x_train, y_train, x_val, y_val, x_test, y_test, dates_train, dates_val, dates_test, feature_to_city, feature_to_day)\n",
        "\n",
        "# plot one data point for listed cities and target temperature\n",
        "def plot_temps(x, y, cities, feature_to_city, feature_to_day, target_date):\n",
        "  nc = len(cities)\n",
        "  ndays = 5\n",
        "  xplot = np.array([-5,-4,-3,-2,-1])\n",
        "  yplot = np.zeros((nc,ndays))\n",
        "  for f in np.arange(len(x)):\n",
        "    for c in np.arange(nc):\n",
        "      if cities[c]==feature_to_city[f]:\n",
        "        yplot[feature_to_day[f]+ndays,c] = x[f]\n",
        "  plt.plot(xplot,yplot)\n",
        "  plt.legend(cities)\n",
        "  plt.plot(0, y, 'b*', markersize=10)\n",
        "  plt.title('Predict Temp for Cleveland on ' + target_date)\n",
        "  plt.xlabel('Day')\n",
        "  plt.ylabel('Avg Temp (C)')\n",
        "  plt.show()\n",
        "\n",
        "\n"
      ],
      "metadata": {
        "id": "4PG1tNzr1tSO"
      },
      "execution_count": 61,
      "outputs": []
    },
    {
      "cell_type": "code",
      "source": [
        "# load data (may need to modify file location in preceding cell)\n",
        "(x_train, y_train, x_val, y_val, x_test, y_test, dates_train, dates_val, dates_test, feature_to_city, feature_to_day) = load_temp_data()\n",
        "\n",
        "# example of displaying information related to a feature index\n",
        "f = 361\n",
        "print('Feature {}: city = {}, day= {}'.format(f,feature_to_city[f], feature_to_day[f]))\n",
        "\n",
        "# example of computing RMSE and median absolute error (for baseline of predicting based on previous day's temperature in Cleveland)\n",
        "baseline_rmse = np.sqrt(np.mean((y_val[1:]-y_val[:-1])**2)) # root mean squared error\n",
        "baseline_mae = np.sqrt(np.median(np.abs(y_val[1:]-y_val[:-1]))) # median absolute error\n",
        "print('Baseline - predict same as previous day: RMSE={}, MAE={}'.format(baseline_rmse, baseline_mae))\n",
        "\n",
        "# plots temperatures for preceding days for given cities, and target (Cleveland) temp\n",
        "plot_temps(x_val[0], y_val[0], ['Cleveland', 'New York', 'Chicago', 'Denver', 'St. Louis'], feature_to_city, feature_to_day, dates_val[0])\n",
        "plot_temps(x_val[100], y_val[100], ['Cleveland', 'New York', 'Chicago', 'Denver', 'St. Louis'], feature_to_city, feature_to_day, dates_val[1])"
      ],
      "metadata": {
        "id": "zZ6shFfVHlpZ",
        "colab": {
          "base_uri": "https://localhost:8080/",
          "height": 625
        },
        "outputId": "5f5ab5c0-cf7e-46a1-e9a2-587569525364"
      },
      "execution_count": 62,
      "outputs": [
        {
          "output_type": "stream",
          "name": "stdout",
          "text": [
            "Drive already mounted at /content/drive/; to attempt to forcibly remount, call drive.mount(\"/content/drive/\", force_remount=True).\n",
            "Feature 361: city = Cleveland, day= -1\n",
            "Baseline - predict same as previous day: RMSE=3.460601246750482, MAE=1.3964240043768943\n"
          ]
        },
        {
          "output_type": "display_data",
          "data": {
            "text/plain": [
              "<Figure size 432x288 with 1 Axes>"
            ],
            "image/png": "[encoded data removed]"
          },
          "metadata": {
            "needs_background": "light"
          }
        },
        {
          "output_type": "display_data",
          "data": {
            "text/plain": [
              "<Figure size 432x288 with 1 Axes>"
            ],
            "image/png": "[encoded data removed]"
          },
          "metadata": {
            "needs_background": "light"
          }
        }
      ]
    },
    {
      "cell_type": "code",
      "source": [
        "from google.colab import drive\n",
        "drive.mount('/content/drive')"
      ],
      "metadata": {
        "id": "YRi6p7TP91dv",
        "colab": {
          "base_uri": "https://localhost:8080/"
        },
        "outputId": "cd50e9be-811a-4cc0-c473-a0c0e807a7f2"
      },
      "execution_count": 53,
      "outputs": [
        {
          "output_type": "stream",
          "name": "stdout",
          "text": [
            "Drive already mounted at /content/drive; to attempt to forcibly remount, call drive.mount(\"/content/drive\", force_remount=True).\n"
          ]
        }
      ]
    },
    {
      "cell_type": "code",
      "execution_count": 71,
      "metadata": {
        "id": "ERcv0wIcQnWB"
      },
      "outputs": [],
      "source": [
        "# This is a suggested function definition for KNN, but feel free to change it\n",
        "def classify_KNN(X_trn, y_trn, X_tst, K=1):\n",
        "  '''\n",
        "  Classify each data point in X_tst using a K-nearest neighbor classifier based on (X_trn, y_trn), with L2 distance.   \n",
        "  Input: X_trn[i] is the ith training data. y_trn[i] is the ith training label. K is the number of closest neighbors to use.\n",
        "  Output: return y_pred, where y_pred[i] is the predicted ith test label \n",
        "  '''\n",
        "  # needs code\n",
        "  n = len(X_trn)\n",
        "  y_pred = []\n",
        "  for value in X_tst:\n",
        "    temp = []\n",
        "    pred_y = 0\n",
        "    for i in range(n):\n",
        "      distance = la.norm(X_trn[i] - value) \n",
        "      temp.append(distance)\n",
        "    temp = np.array(temp)\n",
        "    choose = np.argsort(temp)\n",
        "    sum = y_trn[choose[0]] + y_trn[choose[1]] + y_trn[choose[2]]\n",
        "    pred_y = sum / 3\n",
        "    y_pred.append(pred_y)\n",
        "  return y_pred\n"
      ]
    },
    {
      "cell_type": "code",
      "source": [
        "# Suggested function definition for NB for temperature regression, but feel free to change \n",
        "def train_NB_temp(X, y, std_prior=0):\n",
        "  '''\n",
        "  Train NB, assuming that X[f]-y is a Gaussian\n",
        "  Input: X[i] is the ith training data. y[i] is the ith training label. std_prior is a value to add to std\n",
        "  Output: return pxy['mu'] and pxy['std'] each with number of values equal to number of features\n",
        "  '''\n",
        "  # needs code\n",
        "  n_features = len(X[0])\n",
        "  pxy = np.zeros((2, n_features))\n",
        "  for i in range(n_features):\n",
        "    temp = np.mean(y - X[:, i], axis=0)\n",
        "    temp2 = np.std(y - X[:, i], axis=0) + std_prior\n",
        "    pxy[0][i] = temp\n",
        "    pxy[1][i] = temp2\n",
        "  return pxy\n",
        "\n",
        "def eval_NB_temp(pxy, X):\n",
        "  '''\n",
        "  Evaluate naive bayes for temp\n",
        "  Input: pxy is the trained model; X is the test data\n",
        "  Output: return y_pred, where y_pred[i] is the predicted ith test value\n",
        "  '''\n",
        "  # needs code\n",
        "  n_data = len(X)\n",
        "  y_pred = []\n",
        "  for i in range(n_data):\n",
        "    temp = (1/np.sum(1/pxy[1]**2))\n",
        "    temp2 = np.sum((X[i]+pxy[0])/pxy[1]**2)\n",
        "    total = temp * temp2\n",
        "    y_pred.append(total)\n",
        "  return y_pred"
      ],
      "metadata": {
        "id": "u9i_hB-UQWDp"
      },
      "execution_count": 70,
      "outputs": []
    },
    {
      "cell_type": "code",
      "source": [
        "# Don't forget linear regression!\n",
        "from sklearn.linear_model import LinearRegression\n",
        "\n",
        "def linear_reg(x_train, y_train, x_test):\n",
        "  linearR = LinearRegression()\n",
        "  linearR.fit(x_train, y_train)\n",
        "  y_pred = linearR.predict(x_test)\n",
        "  return y_pred"
      ],
      "metadata": {
        "id": "Un086lGzbQfQ"
      },
      "execution_count": 69,
      "outputs": []
    },
    {
      "cell_type": "code",
      "source": [
        "# Feature analysis\n",
        "from sklearn import linear_model\n",
        "temp = linear_model.Lasso() \n",
        "temp.fit(x_train, y_train)\n",
        "y_pred = temp.predict(x_val)\n",
        "temp1 = np.argsort(abs(temp.coef_))[:10]\n",
        "argsort_vector = temp1[::-1]\n",
        "x_new_train = np.zeros((len(x_train), 10)) \n",
        "x_new_val = np.zeros((len(x_val), 10))\n",
        "for i in range(10):\n",
        "  idx = argsort_vector[i]\n",
        "  print(\"index: \" + str(idx) + \" city: \" + feature_to_city[idx] + \" day: \" + str(feature_to_day[idx])) \n",
        "  x_new_train[:,i] = x_train[:,idx]\n",
        "  x_new_val[:,i] = x_val[:, idx]\n",
        "\n",
        "# experiment code\n",
        "# knn\n",
        "# y_pred = classify_KNN(x_train, y_train, x_val , K = 3)\n",
        "\n",
        "# Naive bayes\n",
        "# pxy = train_NB_temp(x_train, y_train, 0)\n",
        "# y_pred = eval_NB_temp(pxy, x_val)\n",
        "\n",
        "\n",
        "# linear regression\n",
        "# y_pred = linear_reg(x_train, y_train, x_val)\n",
        "# rmse = np.sqrt(np.mean((y_pred-y_val)**2))\n",
        "# mae = np.sqrt(np.median(np.abs(y_pred-y_val))) \n",
        "# print(rmse)\n",
        "# print(mae)"
      ],
      "metadata": {
        "id": "3rehsXx0cZOh",
        "colab": {
          "base_uri": "https://localhost:8080/"
        },
        "outputId": "a31a22b9-3eae-47d7-850f-88ef91748b91"
      },
      "execution_count": 83,
      "outputs": [
        {
          "output_type": "stream",
          "name": "stdout",
          "text": [
            "index: 269 city: Baltimore day: -2\n",
            "index: 270 city: Riverside day: -2\n",
            "index: 271 city: St. Louis day: -2\n",
            "index: 272 city: Las Vegas day: -2\n",
            "index: 273 city: Portland day: -2\n",
            "index: 274 city: San Antonio day: -2\n",
            "index: 275 city: Sacramento day: -2\n",
            "index: 276 city: San Jose day: -2\n",
            "index: 277 city: Orlando day: -2\n",
            "index: 0 city: New York day: -5\n",
            "2.444692756154613\n",
            "1.2823643380425092\n"
          ]
        }
      ]
    },
    {
      "cell_type": "markdown",
      "source": [
        "## Part 3: Stretch Goals\n",
        "Include all your code used for part 3 in this section. You can copy-paste code from parts 1 or 2 if it is re-usable."
      ],
      "metadata": {
        "id": "3X3j_efPhh6e"
      }
    },
    {
      "cell_type": "code",
      "source": [],
      "metadata": {
        "id": "b5SnDgjKVdLJ"
      },
      "execution_count": null,
      "outputs": []
    }
  ],
  "metadata": {
    "colab": {
      "provenance": []
    },
    "kernelspec": {
      "display_name": "Python 3",
      "language": "python",
      "name": "python3"
    },
    "language_info": {
      "codemirror_mode": {
        "name": "ipython",
        "version": 3
      },
      "file_extension": ".py",
      "mimetype": "text/x-python",
      "name": "python",
      "nbconvert_exporter": "python",
      "pygments_lexer": "ipython3",
      "version": "3.7.6"
    }
  },
  "nbformat": 4,
  "nbformat_minor": 0
}